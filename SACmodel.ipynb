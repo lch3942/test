{
 "cells": [
  {
   "cell_type": "code",
   "execution_count": null,
   "metadata": {},
   "outputs": [],
   "source": [
    "import torch.nn as nn\n",
    "import torch"
   ]
  },
  {
   "cell_type": "code",
   "execution_count": null,
   "metadata": {},
   "outputs": [],
   "source": [
    "class Q_critic(nn.Module):\n",
    "    def __init__(self):\n",
    "        super(Q_critic, self).__init__()\n",
    "        self.line1=nn.Linear(10,256)\n",
    "        self.line2=nn.Linear(256,256)\n",
    "        self.line3=nn.Linear(256,1)\n",
    "        \n",
    "        \n",
    "        self.relu=nn.ReLU()\n",
    "        \n",
    "    def forward(self, y,act):\n",
    "        x=torch.cat((y,act),dim=-1)\n",
    "        x=self.line1(x)\n",
    "        x=self.relu(x)\n",
    "        x=self.line2(x)\n",
    "        x=self.relu(x)\n",
    "        x=self.line3(x)\n",
    "        \n",
    "        return x"
   ]
  },
  {
   "cell_type": "code",
   "execution_count": null,
   "metadata": {},
   "outputs": [],
   "source": [
    "class actor(nn.Module):\n",
    "    def __init__(self):\n",
    "        super(actor, self).__init__()\n",
    "        self.line1=nn.Linear(8,256)\n",
    "        self.line2=nn.Linear(256,256)\n",
    "        \n",
    "        \n",
    "        self.relu=nn.ReLU()\n",
    "        \n",
    "        self.mean = nn.Linear(256, 2)\n",
    "        self.tanh=nn.Hardtanh()\n",
    "        \n",
    "        self.std = nn.Linear(256, 2)\n",
    "        self.softplus=nn.Softplus()\n",
    "        \n",
    "    def forward(self, x):\n",
    "        x=self.line1(x)\n",
    "        x=self.relu(x)\n",
    "        x=self.line2(x)\n",
    "        x=self.relu(x)\n",
    "        \n",
    "        mean=self.mean(x)\n",
    "        mean=self.tanh(mean)  # tanh activation to bound the actions\n",
    "\n",
    "        std = self.std(x)\n",
    "        std = self.softplus(std) # Convert log std to std\n",
    "\n",
    "        dist = torch.distributions.Normal(mean, std)\n",
    "        \n",
    "        action = dist.sample()\n",
    "        adjusted_action = torch.tanh(action)\n",
    "        \n",
    "        log_prob = dist.log_prob(action)# 샘플링된 행동의 로그 확률 계산\n",
    "        adjusted_log_prob=log_prob-torch.log(1-adjusted_action.pow(2) + 1e-6)\n",
    "        \n",
    "        return adjusted_action, adjusted_log_prob"
   ]
  }
 ],
 "metadata": {
  "language_info": {
   "name": "python"
  }
 },
 "nbformat": 4,
 "nbformat_minor": 2
}
